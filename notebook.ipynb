{
 "cells": [
  {
   "metadata": {
    "ExecuteTime": {
     "end_time": "2024-04-22T02:01:24.736554Z",
     "start_time": "2024-04-22T02:01:12.846317Z"
    }
   },
   "cell_type": "code",
   "source": [
    "from typing import Type, Any\n",
    "from langchain.chat_models import ChatOpenAI\n",
    "from langchain.tools import BaseTool\n",
    "from pydantic import BaseModel, Field\n",
    "from langchain.agents import initialize_agent, AgentType\n",
    "\n",
    "llm = ChatOpenAI(\n",
    "    temperature=0.1,\n",
    ")\n",
    "\n",
    "\n",
    "def plus(a, b):\n",
    "    return a + b\n",
    "\n",
    "\n",
    "class CalculatorToolArgsSchema(BaseModel):\n",
    "    a: float = Field(description=\"The first number\")\n",
    "    b: float = Field(description=\"The second number\")\n",
    "\n",
    "\n",
    "class CalculatorTool(BaseTool):\n",
    "    name = \"CalculatorTool\",\n",
    "    description = \"\"\"\n",
    "    Use this to perform sums of two numbers.\n",
    "    The first and second arguments should be numbers.\n",
    "    Only receives two arguments.\n",
    "    \"\"\",\n",
    "    args_schema = Type[CalculatorToolArgsSchema] = CalculatorToolArgsSchema,\n",
    "\n",
    "    def _run(self, a, b):\n",
    "        return plus(a, b)\n",
    "\n",
    "\n",
    "agent = initialize_agent(\n",
    "    llm=llm,\n",
    "    verbose=True,\n",
    "    agent=AgentType.OPENAI_FUNCTIONS,\n",
    "    handle_parsing_errors=True,\n",
    "    tools=[CalculatorTool(), ],\n",
    ")\n",
    "\n",
    "prompt = \"Cost of $355.39 + $924.87 + $721.2 + $1940.29 + $573.63 + $65.72 + $35.00 + $552.00 + $76.16 + $29.12\"\n",
    "\n",
    "agent.invoke(prompt)"
   ],
   "id": "85e942d88af6f2db",
   "outputs": [
    {
     "name": "stdout",
     "output_type": "stream",
     "text": [
      "\n",
      "\n",
      "\u001B[1m> Entering new AgentExecutor chain...\u001B[0m\n",
      "\u001B[32;1m\u001B[1;3mI need to add up all these numbers to find the total cost.\n",
      "Action: Sum Calculator\n",
      "Action Input: 355.39,924.87\u001B[0m\n",
      "Observation: \u001B[36;1m\u001B[1;3m1280.26\u001B[0m\n",
      "Thought:\u001B[32;1m\u001B[1;3mI need to continue adding the remaining numbers to the total.\n",
      "Action: Sum Calculator\n",
      "Action Input: 1280.26,721.2\u001B[0m\n",
      "Observation: \u001B[36;1m\u001B[1;3m2001.46\u001B[0m\n",
      "Thought:\u001B[32;1m\u001B[1;3mI need to continue adding the remaining numbers to the total.\n",
      "Action: Sum Calculator\n",
      "Action Input: 2001.46,1940.29\u001B[0m\n",
      "Observation: \u001B[36;1m\u001B[1;3m3941.75\u001B[0m\n",
      "Thought:\u001B[32;1m\u001B[1;3mI need to continue adding the remaining numbers to the total.\n",
      "Action: Sum Calculator\n",
      "Action Input: 3941.75,573.63\u001B[0m\n",
      "Observation: \u001B[36;1m\u001B[1;3m4515.38\u001B[0m\n",
      "Thought:\u001B[32;1m\u001B[1;3mI need to continue adding the remaining numbers to the total.\n",
      "Action: Sum Calculator\n",
      "Action Input: 4515.38,65.72\u001B[0m\n",
      "Observation: \u001B[36;1m\u001B[1;3m4581.1\u001B[0m\n",
      "Thought:\u001B[32;1m\u001B[1;3mI need to continue adding the remaining numbers to the total.\n",
      "Action: Sum Calculator\n",
      "Action Input: 4581.1,35.00\u001B[0m\n",
      "Observation: \u001B[36;1m\u001B[1;3m4616.1\u001B[0m\n",
      "Thought:\u001B[32;1m\u001B[1;3mI need to continue adding the remaining numbers to the total.\n",
      "Action: Sum Calculator\n",
      "Action Input: 4616.1,552.00\u001B[0m\n",
      "Observation: \u001B[36;1m\u001B[1;3m5168.1\u001B[0m\n",
      "Thought:\u001B[32;1m\u001B[1;3mI need to continue adding the remaining numbers to the total.\n",
      "Action: Sum Calculator\n",
      "Action Input: 5168.1,76.16\u001B[0m\n",
      "Observation: \u001B[36;1m\u001B[1;3m5244.26\u001B[0m\n",
      "Thought:\u001B[32;1m\u001B[1;3mI need to add the last number to the total.\n",
      "Action: Sum Calculator\n",
      "Action Input: 5244.26,29.12\u001B[0m\n",
      "Observation: \u001B[36;1m\u001B[1;3m5273.38\u001B[0m\n",
      "Thought:\u001B[32;1m\u001B[1;3mI now know the final answer\n",
      "Final Answer: $5273.38\u001B[0m\n",
      "\n",
      "\u001B[1m> Finished chain.\u001B[0m\n"
     ]
    },
    {
     "data": {
      "text/plain": [
       "{'input': 'Cost of $355.39 + $924.87 + $721.2 + $1940.29 + $573.63 + $65.72 + $35.00 + $552.00 + $76.16 + $29.12',\n",
       " 'output': '$5273.38'}"
      ]
     },
     "execution_count": 1,
     "metadata": {},
     "output_type": "execute_result"
    }
   ],
   "execution_count": 1
  }
 ],
 "metadata": {
  "kernelspec": {
   "display_name": "Python 3 (ipykernel)",
   "language": "python",
   "name": "python3"
  },
  "language_info": {
   "codemirror_mode": {
    "name": "ipython",
    "version": 3
   },
   "file_extension": ".py",
   "mimetype": "text/x-python",
   "name": "python",
   "nbconvert_exporter": "python",
   "pygments_lexer": "ipython3",
   "version": "3.11.6"
  }
 },
 "nbformat": 4,
 "nbformat_minor": 5
}
