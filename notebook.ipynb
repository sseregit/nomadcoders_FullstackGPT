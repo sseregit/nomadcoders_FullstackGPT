{
 "cells": [
  {
   "metadata": {
    "ExecuteTime": {
     "end_time": "2024-04-22T02:55:27.354430Z",
     "start_time": "2024-04-22T02:55:19.645830Z"
    }
   },
   "cell_type": "code",
   "source": [
    "from typing import Type\n",
    "from langchain.chat_models import ChatOpenAI\n",
    "from langchain.tools import BaseTool\n",
    "from pydantic import BaseModel, Field\n",
    "from langchain.agents import initialize_agent, AgentType\n",
    "from langchain.utilities import DuckDuckGoSearchAPIWrapper\n",
    "from langchain.tools import DuckDuckGoSearchResults\n",
    "\n",
    "llm = ChatOpenAI(\n",
    "    temperature=0.1,\n",
    ")\n",
    "\n",
    "\n",
    "class StockMarketSymbolSearchToolArgsSchema(BaseModel):\n",
    "    query: str = Field(description=\"The query you will search for.\")\n",
    "\n",
    "\n",
    "class StockMarketSymbolSearchTool(BaseTool):\n",
    "    name = \"StockMarketSymbolSearchTool\"\n",
    "    description = \"\"\"\n",
    "    Use this tool to find the stock market symbol for a company.\n",
    "    It takes a query as an argument.\n",
    "    Example query: Stock Market Symbol for Apple Company\n",
    "    \"\"\"\n",
    "    args_schema: Type[StockMarketSymbolSearchToolArgsSchema] = StockMarketSymbolSearchToolArgsSchema\n",
    "    \n",
    "    def _run(self, query):\n",
    "        # ddg = DuckDuckGoSearchAPIWrapper()\n",
    "        ddg = DuckDuckGoSearchResults()\n",
    "        return ddg.run(query)\n",
    "\n",
    "\n",
    "agent = initialize_agent(\n",
    "    llm=llm,\n",
    "    verbose=True,\n",
    "    agent=AgentType.OPENAI_FUNCTIONS,\n",
    "    handle_parsing_errors=True,\n",
    "    tools=[StockMarketSymbolSearchTool(), ],\n",
    ")\n",
    "\n",
    "prompt = \"Give me information on Cloudflare's stock and help me analyze if it's a potential good investment. Also tell me what symbol does the stock have.\"\n",
    "\n",
    "agent.invoke(prompt)"
   ],
   "id": "85e942d88af6f2db",
   "outputs": [
    {
     "name": "stdout",
     "output_type": "stream",
     "text": [
      "\n",
      "\n",
      "\u001B[1m> Entering new AgentExecutor chain...\u001B[0m\n",
      "\u001B[32;1m\u001B[1;3m\n",
      "Invoking: `StockMarketSymbolSearchTool` with `{'query': 'Cloudflare stock'}`\n",
      "\n",
      "\n",
      "\u001B[0m\u001B[36;1m\u001B[1;3m[snippet: Get the latest Cloudflare stock quote, history, news, and analyst opinions. See the current price, 52-week high and low, market cap, P/E ratio, and more for NET., title: Cloudflare Stock Price | NET Stock Quote, News, and History | Markets ..., link: https://markets.businessinsider.com/stocks/net-stock?op=1], [snippet: Get the latest information on Cloudflare, Inc. (NET), a leading connectivity cloud company, including its stock price, earnings, revenue, analyst ratings and news. See how Cloudflare performed in 2023 and what to expect in 2024., title: Cloudflare, Inc. (NET) Stock Price, Quote & News - Stock Analysis, link: https://stockanalysis.com/stocks/net/], [snippet: Cloudflare's stock has recently been incredibly volatile, ranging between approximately $30 and $80. The significant price movements have been in response to news and events affecting the broader tech industry. Cloudflare operates in the highly competitive cybersecurity industry, characterized by rapid technological change, intense competition ..., title: Cloudflare (NET) Stock Price, News & Analysis - MarketBeat, link: https://www.marketbeat.com/stocks/NYSE/NET/], [snippet: Real-time Cloudflare stock price (NYSE: NET) plus other valuable data points like day range, year, stock analyst insights, related news and more., title: NET Stock - Cloudflare Stock Price - NYSE: NET | Morningstar, link: https://www.morningstar.com/stocks/xnys/net/quote]\u001B[0m\u001B[32;1m\u001B[1;3mCloudflare's stock symbol is NET. \n",
      "\n",
      "Cloudflare's stock has recently been incredibly volatile, ranging between approximately $30 and $80. The significant price movements have been in response to news and events affecting the broader tech industry. Cloudflare operates in the highly competitive cybersecurity industry, characterized by rapid technological change and intense competition.\n",
      "\n",
      "To analyze if Cloudflare is a potential good investment, we need to consider various factors such as the company's financial performance, growth prospects, competitive position in the market, and industry trends. It's important to conduct a thorough analysis of the company's financial statements, revenue growth, profitability, and future outlook before making an investment decision.\n",
      "\n",
      "I recommend researching more about Cloudflare's financials, market position, and growth potential to determine if it aligns with your investment goals and risk tolerance.\u001B[0m\n",
      "\n",
      "\u001B[1m> Finished chain.\u001B[0m\n"
     ]
    },
    {
     "data": {
      "text/plain": [
       "{'input': \"Give me information on Cloudflare's stock and help me analyze if it's a potential good investment. Also tell me what symbol does the stock have.\",\n",
       " 'output': \"Cloudflare's stock symbol is NET. \\n\\nCloudflare's stock has recently been incredibly volatile, ranging between approximately $30 and $80. The significant price movements have been in response to news and events affecting the broader tech industry. Cloudflare operates in the highly competitive cybersecurity industry, characterized by rapid technological change and intense competition.\\n\\nTo analyze if Cloudflare is a potential good investment, we need to consider various factors such as the company's financial performance, growth prospects, competitive position in the market, and industry trends. It's important to conduct a thorough analysis of the company's financial statements, revenue growth, profitability, and future outlook before making an investment decision.\\n\\nI recommend researching more about Cloudflare's financials, market position, and growth potential to determine if it aligns with your investment goals and risk tolerance.\"}"
      ]
     },
     "execution_count": 1,
     "metadata": {},
     "output_type": "execute_result"
    }
   ],
   "execution_count": 1
  }
 ],
 "metadata": {
  "kernelspec": {
   "display_name": "Python 3 (ipykernel)",
   "language": "python",
   "name": "python3"
  },
  "language_info": {
   "codemirror_mode": {
    "name": "ipython",
    "version": 3
   },
   "file_extension": ".py",
   "mimetype": "text/x-python",
   "name": "python",
   "nbconvert_exporter": "python",
   "pygments_lexer": "ipython3",
   "version": "3.11.6"
  }
 },
 "nbformat": 4,
 "nbformat_minor": 5
}
