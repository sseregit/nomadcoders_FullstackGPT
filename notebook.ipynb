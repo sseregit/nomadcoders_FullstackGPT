{
 "cells": [
  {
   "cell_type": "code",
   "id": "bbd148d3e189e09e",
   "metadata": {
    "ExecuteTime": {
     "end_time": "2024-04-11T01:41:08.717956Z",
     "start_time": "2024-04-11T01:41:08.712704Z"
    }
   },
   "source": [
    "from langchain.chat_models import ChatOpenAI\n",
    "from langchain.prompts import ChatPromptTemplate\n",
    "from langchain.callbacks import StreamingStdOutCallbackHandler\n",
    "\n",
    "chat = ChatOpenAI(temperature=0.1, streaming=True, callbacks=[\n",
    "    StreamingStdOutCallbackHandler(),\n",
    "])\n",
    "\n",
    "chef_prompt = ChatPromptTemplate.from_messages([\n",
    "    (\"system\", \"You are a world-class international chef. You create easy to follow recipies for any type of cuisine with easy to find ingredients.\"),\n",
    "    (\"human\", \"I want to cook {cuisine} food.\")\n",
    "])\n",
    "\n",
    "chef_chain = chef_prompt | chat"
   ],
   "outputs": [],
   "execution_count": 18
  },
  {
   "metadata": {
    "ExecuteTime": {
     "end_time": "2024-04-11T01:41:21.345679Z",
     "start_time": "2024-04-11T01:41:08.719760Z"
    }
   },
   "cell_type": "code",
   "source": [
    "veg_chef_prompt = ChatPromptTemplate.from_messages([\n",
    "    (\"system\", \"You are a vegetarian chef specialized on making traditional recipies vegetarian. You find alternative ingredients and explain their preparation. You don't radically modify the recipe. If there is no alternative for a food just say you don't know how to replace it.\"),\n",
    "    (\"human\", \"{recipe}\")\n",
    "])\n",
    "\n",
    "veg_chain  = veg_chef_prompt | chat\n",
    "\n",
    "final_chain = {\"recipe\": chef_chain} | veg_chain\n",
    "\n",
    "final_chain.invoke({\n",
    "    \"cuisine\": \"indian\"\n",
    "})"
   ],
   "id": "bb977d679c0a7c91",
   "outputs": [
    {
     "name": "stdout",
     "output_type": "stream",
     "text": [
      "Great choice! Indian cuisine is known for its bold flavors and aromatic spices. Let's start with a classic and easy recipe for Chicken Tikka Masala.\n",
      "\n",
      "Ingredients:\n",
      "- 1 lb boneless, skinless chicken breasts, cut into bite-sized pieces\n",
      "- 1 cup plain yogurt\n",
      "- 2 tbsp lemon juice\n",
      "- 2 tbsp vegetable oil\n",
      "- 1 onion, finely chopped\n",
      "- 3 cloves garlic, minced\n",
      "- 1-inch piece of ginger, grated\n",
      "- 1 can (14 oz) crushed tomatoes\n",
      "- 1 tbsp garam masala\n",
      "- 1 tsp ground cumin\n",
      "- 1 tsp ground coriander\n",
      "- 1/2 tsp turmeric\n",
      "- 1/2 tsp paprika\n",
      "- 1/2 tsp cayenne pepper (adjust to taste)\n",
      "- Salt and pepper to taste\n",
      "- Fresh cilantro, chopped (for garnish)\n",
      "- Cooked rice or naan bread (for serving)\n",
      "\n",
      "Instructions:\n",
      "1. In a bowl, combine the yogurt, lemon juice, 1 tbsp vegetable oil, 1 tbsp garam masala, 1 tsp ground cumin, 1 tsp ground coriander, 1/2 tsp turmeric, 1/2 tsp paprika, 1/2 tsp cayenne pepper, salt, and pepper. Add the chicken pieces and mix well to coat. Marinate for at least 1 hour, or overnight for best results.\n",
      "\n",
      "2. Heat the remaining 1 tbsp of vegetable oil in a large skillet over medium heat. Add the chopped onion and cook until softened, about 5 minutes. Add the minced garlic and grated ginger, and cook for another 2 minutes.\n",
      "\n",
      "3. Add the marinated chicken pieces to the skillet, along with any excess marinade. Cook for about 5-7 minutes, stirring occasionally, until the chicken is browned on all sides.\n",
      "\n",
      "4. Stir in the crushed tomatoes and simmer for 15-20 minutes, stirring occasionally, until the chicken is cooked through and the sauce has thickened.\n",
      "\n",
      "5. Taste and adjust seasoning as needed. If you prefer a creamier sauce, you can stir in a few tablespoons of heavy cream or coconut milk at this point.\n",
      "\n",
      "6. Serve the Chicken Tikka Masala hot over cooked rice or with naan bread. Garnish with chopped fresh cilantro.\n",
      "\n",
      "Enjoy your homemade Chicken Tikka Masala, a popular Indian dish that is sure to impress your family and friends!For a vegetarian version of Chicken Tikka Masala, you can replace the chicken with a plant-based alternative such as tofu or paneer. Here's how you can prepare these alternatives:\n",
      "\n",
      "1. **Tofu**: \n",
      "   - Use firm or extra-firm tofu for this recipe.\n",
      "   - Drain the tofu and press it to remove excess water. You can do this by wrapping the tofu block in a clean kitchen towel or paper towels and placing a heavy object on top for about 15-30 minutes.\n",
      "   - Cut the tofu into bite-sized cubes and follow the same marinating process as you would with the chicken. Tofu absorbs flavors well, so marinating it for a longer time can enhance the taste.\n",
      "\n",
      "2. **Paneer**:\n",
      "   - Paneer is a type of Indian cheese that holds its shape well when cooked.\n",
      "   - Cut the paneer into cubes and lightly fry them in a pan until they develop a golden crust. This step helps the paneer hold its shape better when simmered in the sauce.\n",
      "   - You can also marinate the paneer cubes in the yogurt and spice mixture for added flavor.\n",
      "\n",
      "By using tofu or paneer as a substitute for chicken, you can enjoy a delicious vegetarian version of Chicken Tikka Masala that retains the essence of the traditional dish."
     ]
    },
    {
     "data": {
      "text/plain": [
       "AIMessageChunk(content=\"For a vegetarian version of Chicken Tikka Masala, you can replace the chicken with a plant-based alternative such as tofu or paneer. Here's how you can prepare these alternatives:\\n\\n1. **Tofu**: \\n   - Use firm or extra-firm tofu for this recipe.\\n   - Drain the tofu and press it to remove excess water. You can do this by wrapping the tofu block in a clean kitchen towel or paper towels and placing a heavy object on top for about 15-30 minutes.\\n   - Cut the tofu into bite-sized cubes and follow the same marinating process as you would with the chicken. Tofu absorbs flavors well, so marinating it for a longer time can enhance the taste.\\n\\n2. **Paneer**:\\n   - Paneer is a type of Indian cheese that holds its shape well when cooked.\\n   - Cut the paneer into cubes and lightly fry them in a pan until they develop a golden crust. This step helps the paneer hold its shape better when simmered in the sauce.\\n   - You can also marinate the paneer cubes in the yogurt and spice mixture for added flavor.\\n\\nBy using tofu or paneer as a substitute for chicken, you can enjoy a delicious vegetarian version of Chicken Tikka Masala that retains the essence of the traditional dish.\")"
      ]
     },
     "execution_count": 19,
     "metadata": {},
     "output_type": "execute_result"
    }
   ],
   "execution_count": 19
  }
 ],
 "metadata": {
  "kernelspec": {
   "display_name": "Python 3 (ipykernel)",
   "language": "python",
   "name": "python3"
  },
  "language_info": {
   "codemirror_mode": {
    "name": "ipython",
    "version": 3
   },
   "file_extension": ".py",
   "mimetype": "text/x-python",
   "name": "python",
   "nbconvert_exporter": "python",
   "pygments_lexer": "ipython3",
   "version": "3.11.6"
  }
 },
 "nbformat": 4,
 "nbformat_minor": 5
}
