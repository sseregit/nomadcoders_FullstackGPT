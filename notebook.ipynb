{
 "cells": [
  {
   "cell_type": "code",
   "id": "bbd148d3e189e09e",
   "metadata": {
    "ExecuteTime": {
     "end_time": "2024-04-11T01:15:26.661577Z",
     "start_time": "2024-04-11T01:15:26.656924Z"
    }
   },
   "source": [
    "from langchain.chat_models import ChatOpenAI\n",
    "from langchain.prompts import ChatPromptTemplate\n",
    "from langchain.schema.output_parser import T\n",
    "\n",
    "chat = ChatOpenAI(temperature=0.1)"
   ],
   "outputs": [],
   "execution_count": 12
  },
  {
   "metadata": {
    "ExecuteTime": {
     "end_time": "2024-04-11T01:15:26.666266Z",
     "start_time": "2024-04-11T01:15:26.663212Z"
    }
   },
   "cell_type": "code",
   "source": [
    "from langchain.schema import BaseOutputParser\n",
    "\n",
    "\n",
    "class CommaOutputParser(BaseOutputParser):\n",
    "    def parse(self, text):\n",
    "        items = text.strip().split(\",\")\n",
    "        return list(map(str.strip, items))"
   ],
   "id": "5546e27a5eeb222a",
   "outputs": [],
   "execution_count": 13
  },
  {
   "metadata": {
    "ExecuteTime": {
     "end_time": "2024-04-11T01:15:26.669453Z",
     "start_time": "2024-04-11T01:15:26.667062Z"
    }
   },
   "cell_type": "code",
   "source": [
    "template = ChatPromptTemplate.from_messages([\n",
    "    (\"system\",\n",
    "     \"You are a list generating machine. Everything you are asked will be answered with a comma separated list of max {max_items}. Do NOT reply with anything else.\"),\n",
    "    (\"human\", \"{question}\"),\n",
    "])"
   ],
   "id": "e4f754e46094d2b4",
   "outputs": [],
   "execution_count": 14
  },
  {
   "metadata": {
    "ExecuteTime": {
     "end_time": "2024-04-11T01:15:27.735718Z",
     "start_time": "2024-04-11T01:15:26.670840Z"
    }
   },
   "cell_type": "code",
   "source": [
    "chain = template | chat | CommaOutputParser()\n",
    "\n",
    "chain.invoke({\n",
    "    \"max_items\": 5,\n",
    "    \"question\": \"What are the pokemons?\"\n",
    "})"
   ],
   "id": "6444c1b1c174cc3b",
   "outputs": [
    {
     "data": {
      "text/plain": [
       "['Pikachu', 'Charmander', 'Bulbasaur', 'Squirtle', 'Jigglypuff']"
      ]
     },
     "execution_count": 15,
     "metadata": {},
     "output_type": "execute_result"
    }
   ],
   "execution_count": 15
  }
 ],
 "metadata": {
  "kernelspec": {
   "display_name": "Python 3 (ipykernel)",
   "language": "python",
   "name": "python3"
  },
  "language_info": {
   "codemirror_mode": {
    "name": "ipython",
    "version": 3
   },
   "file_extension": ".py",
   "mimetype": "text/x-python",
   "name": "python",
   "nbconvert_exporter": "python",
   "pygments_lexer": "ipython3",
   "version": "3.11.6"
  }
 },
 "nbformat": 4,
 "nbformat_minor": 5
}
