{
 "cells": [
  {
   "metadata": {
    "ExecuteTime": {
     "end_time": "2024-04-23T02:33:18.687086Z",
     "start_time": "2024-04-23T02:33:13.184245Z"
    }
   },
   "cell_type": "code",
   "source": [
    "from langchain.agents import create_sql_agent, AgentType\n",
    "from langchain.chat_models import ChatOpenAI\n",
    "from langchain.agents.agent_toolkits import SQLDatabaseToolkit\n",
    "from langchain.sql_database import SQLDatabase\n",
    "\n",
    "llm = ChatOpenAI(\n",
    "    temperature=0.1,\n",
    "    model_name=\"gpt-3.5-turbo-0125\",\n",
    ")\n",
    "\n",
    "db = SQLDatabase.from_uri(\"sqlite:///movies.sqlite\")\n",
    "toolkit = SQLDatabaseToolkit(db=db, llm=llm)\n",
    "\n",
    "agent = create_sql_agent(\n",
    "    llm=llm,\n",
    "    toolkit=toolkit,\n",
    "    agent_type=AgentType.ZERO_SHOT_REACT_DESCRIPTION,\n",
    "    verbose=True,\n",
    ")\n",
    "\n",
    "agent.invoke(\"Give me the 5 directors that have the highest grossing films.\")"
   ],
   "id": "95d32c63110ad424",
   "outputs": [
    {
     "name": "stdout",
     "output_type": "stream",
     "text": [
      "\n",
      "\n",
      "\u001B[1m> Entering new AgentExecutor chain...\u001B[0m\n",
      "\u001B[32;1m\u001B[1;3mAction: sql_db_list_tables\n",
      "Action Input: \u001B[0m\n",
      "Observation: \u001B[38;5;200m\u001B[1;3mdirectors, movies\u001B[0m\n",
      "Thought:\u001B[32;1m\u001B[1;3mI can query the directors and movies tables to find the directors with the highest grossing films.\n",
      "Action: sql_db_schema\n",
      "Action Input: directors, movies\u001B[0m\n",
      "Observation: \u001B[33;1m\u001B[1;3m\n",
      "CREATE TABLE directors (\n",
      "\tname TEXT, \n",
      "\tid INTEGER, \n",
      "\tgender INTEGER, \n",
      "\tuid INTEGER, \n",
      "\tdepartment TEXT, \n",
      "\tPRIMARY KEY (id)\n",
      ")\n",
      "\n",
      "/*\n",
      "3 rows from directors table:\n",
      "name\tid\tgender\tuid\tdepartment\n",
      "James Cameron\t4762\t2\t2710\tDirecting\n",
      "Gore Verbinski\t4763\t2\t1704\tDirecting\n",
      "Sam Mendes\t4764\t2\t39\tDirecting\n",
      "*/\n",
      "\n",
      "\n",
      "CREATE TABLE movies (\n",
      "\tid INTEGER, \n",
      "\toriginal_title VARCHAR, \n",
      "\tbudget INTEGER, \n",
      "\tpopularity INTEGER, \n",
      "\trelease_date TEXT, \n",
      "\trevenue INTEGER, \n",
      "\ttitle TEXT, \n",
      "\tvote_average REAL, \n",
      "\tvote_count INTEGER, \n",
      "\toverview TEXT, \n",
      "\ttagline TEXT, \n",
      "\tuid INTEGER, \n",
      "\tdirector_id INTEGER DEFAULT 0 NOT NULL, \n",
      "\tPRIMARY KEY (id)\n",
      ")\n",
      "\n",
      "/*\n",
      "3 rows from movies table:\n",
      "id\toriginal_title\tbudget\tpopularity\trelease_date\trevenue\ttitle\tvote_average\tvote_count\toverview\ttagline\tuid\tdirector_id\n",
      "43597\tAvatar\t237000000\t150\t2009-12-10\t2787965087\tAvatar\t7.2\t11800\tIn the 22nd century, a paraplegic Marine is dispatched to the moon Pandora on a unique mission, but \tEnter the World of Pandora.\t19995\t4762\n",
      "43598\tPirates of the Caribbean: At World's End\t300000000\t139\t2007-05-19\t961000000\tPirates of the Caribbean: At World's End\t6.9\t4500\tCaptain Barbossa, long believed to be dead, has come back to life and is headed to the edge of the E\tAt the end of the world, the adventure begins.\t285\t4763\n",
      "43599\tSpectre\t245000000\t107\t2015-10-26\t880674609\tSpectre\t6.3\t4466\tA cryptic message from Bond’s past sends him on a trail to uncover a sinister organization. While M \tA Plan No One Escapes\t206647\t4764\n",
      "*/\u001B[0m\n",
      "Thought:\u001B[32;1m\u001B[1;3mI can join the directors and movies tables on the director_id column to get the grossing films for each director.\n",
      "Action: sql_db_query\n",
      "Action Input: SELECT directors.name, SUM(movies.revenue) AS total_gross\n",
      "FROM directors\n",
      "JOIN movies ON directors.id = movies.director_id\n",
      "GROUP BY directors.name\n",
      "ORDER BY total_gross DESC\n",
      "LIMIT 5;\u001B[0m\n",
      "Observation: \u001B[36;1m\u001B[1;3m[('Steven Spielberg', 9147393164), ('Peter Jackson', 6498642820), ('James Cameron', 5883569439), ('Michael Bay', 5832524638), ('Christopher Nolan', 4227483234)]\u001B[0m\n",
      "Thought:\u001B[32;1m\u001B[1;3mI now know the final answer.\n",
      "Final Answer: The 5 directors that have the highest grossing films are Steven Spielberg, Peter Jackson, James Cameron, Michael Bay, and Christopher Nolan.\u001B[0m\n",
      "\n",
      "\u001B[1m> Finished chain.\u001B[0m\n"
     ]
    },
    {
     "data": {
      "text/plain": [
       "{'input': 'Give me the 5 directors that have the highest grossing films.',\n",
       " 'output': 'The 5 directors that have the highest grossing films are Steven Spielberg, Peter Jackson, James Cameron, Michael Bay, and Christopher Nolan.'}"
      ]
     },
     "execution_count": 2,
     "metadata": {},
     "output_type": "execute_result"
    }
   ],
   "execution_count": 2
  }
 ],
 "metadata": {
  "kernelspec": {
   "display_name": "Python 3 (ipykernel)",
   "language": "python",
   "name": "python3"
  },
  "language_info": {
   "codemirror_mode": {
    "name": "ipython",
    "version": 3
   },
   "file_extension": ".py",
   "mimetype": "text/x-python",
   "name": "python",
   "nbconvert_exporter": "python",
   "pygments_lexer": "ipython3",
   "version": "3.11.6"
  }
 },
 "nbformat": 4,
 "nbformat_minor": 5
}
